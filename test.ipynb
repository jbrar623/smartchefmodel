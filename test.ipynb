{
 "cells": [
  {
   "cell_type": "code",
   "execution_count": 3,
   "id": "9cbce85e-90cb-4136-8835-6277d6c329ef",
   "metadata": {},
   "outputs": [
    {
     "ename": "KeyError",
     "evalue": "\"The column 'Is_Weekend' was not found in the dataset.\"",
     "output_type": "error",
     "traceback": [
      "\u001b[0;31m---------------------------------------------------------------------------\u001b[0m",
      "\u001b[0;31mKeyError\u001b[0m                                  Traceback (most recent call last)",
      "Cell \u001b[0;32mIn[3], line 30\u001b[0m\n\u001b[1;32m     28\u001b[0m \u001b[38;5;28;01mfor\u001b[39;00m col \u001b[38;5;129;01min\u001b[39;00m features:\n\u001b[1;32m     29\u001b[0m     \u001b[38;5;28;01mif\u001b[39;00m col \u001b[38;5;129;01mnot\u001b[39;00m \u001b[38;5;129;01min\u001b[39;00m merged_df\u001b[38;5;241m.\u001b[39mcolumns:\n\u001b[0;32m---> 30\u001b[0m         \u001b[38;5;28;01mraise\u001b[39;00m \u001b[38;5;167;01mKeyError\u001b[39;00m(\u001b[38;5;124mf\u001b[39m\u001b[38;5;124m\"\u001b[39m\u001b[38;5;124mThe column \u001b[39m\u001b[38;5;124m'\u001b[39m\u001b[38;5;132;01m{\u001b[39;00mcol\u001b[38;5;132;01m}\u001b[39;00m\u001b[38;5;124m'\u001b[39m\u001b[38;5;124m was not found in the dataset.\u001b[39m\u001b[38;5;124m\"\u001b[39m)\n\u001b[1;32m     32\u001b[0m \u001b[38;5;66;03m# Define X and y\u001b[39;00m\n\u001b[1;32m     33\u001b[0m X \u001b[38;5;241m=\u001b[39m merged_df[features]\n",
      "\u001b[0;31mKeyError\u001b[0m: \"The column 'Is_Weekend' was not found in the dataset.\""
     ]
    }
   ],
   "source": [
    "import pandas as pd\n",
    "import numpy as np\n",
    "from sklearn.model_selection import train_test_split\n",
    "from sklearn.linear_model import LinearRegression\n",
    "from sklearn.metrics import mean_absolute_error, r2_score\n",
    "\n",
    "# Load datasets\n",
    "sales_df = pd.read_csv(\"Calgary_Restaurant_Sales.csv\")\n",
    "reservations_df = pd.read_csv(\"Calgary_Reservations_Data.csv\")\n",
    "\n",
    "# Convert 'Date' columns to datetime format\n",
    "sales_df['Date'] = pd.to_datetime(sales_df['Date'])\n",
    "reservations_df['Date'] = pd.to_datetime(reservations_df['Date'])\n",
    "\n",
    "# Aggregate customer demand from reservations\n",
    "reservations_df['Total_Customers'] = reservations_df['Party_Size']\n",
    "daily_customers = reservations_df.groupby('Date')['Total_Customers'].sum().reset_index()\n",
    "\n",
    "# Merge datasets\n",
    "merged_df = sales_df.merge(daily_customers, on='Date', how='left')\n",
    "merged_df.fillna(0, inplace=True)  # Fill missing values\n",
    "\n",
    "# Feature selection\n",
    "features = ['Total_Sales', 'Is_Weekend']  # Add more features as needed\n",
    "target = 'Total_Customers'\n",
    "\n",
    "# Ensure features exist\n",
    "for col in features:\n",
    "    if col not in merged_df.columns:\n",
    "        raise KeyError(f\"The column '{col}' was not found in the dataset.\")\n",
    "\n",
    "# Define X and y\n",
    "X = merged_df[features]\n",
    "y = merged_df[target]\n",
    "\n",
    "# Train-test split (80-20)\n",
    "X_train, X_test, y_train, y_test = train_test_split(X, y, test_size=0.2, random_state=42)\n",
    "\n",
    "# Train multiple regression model\n",
    "model = LinearRegression()\n",
    "model.fit(X_train, y_train)\n",
    "\n",
    "# Predict on test set\n",
    "y_pred = model.predict(X_test)\n",
    "\n",
    "# Evaluate model\n",
    "mae = mean_absolute_error(y_test, y_pred)\n",
    "r2 = r2_score(y_test, y_pred)\n",
    "print(f\"Mean Absolute Error: {mae}\")\n",
    "print(f\"R-squared Score: {r2}\")\n",
    "\n",
    "# Forecast next 7 days\n",
    "last_known_date = merged_df['Date'].max()\n",
    "future_dates = [last_known_date + pd.Timedelta(days=i) for i in range(1, 8)]\n",
    "future_data = pd.DataFrame({'Date': future_dates, 'Sales': np.mean(X_train['Total_Sales']), 'Is_Weekend': [1 if d.weekday() >= 5 else 0 for d in future_dates]})\n",
    "\n",
    "future_predictions = model.predict(future_data[features])\n",
    "future_data['Predicted_Customers'] = future_predictions\n",
    "print(future_data[['Date', 'Predicted_Customers']])\n"
   ]
  },
  {
   "cell_type": "code",
   "execution_count": 3,
   "id": "7cbe881c-f568-46bf-95a9-8fe82e059fa8",
   "metadata": {},
   "outputs": [
    {
     "ename": "NameError",
     "evalue": "name 'pd' is not defined",
     "output_type": "error",
     "traceback": [
      "\u001b[0;31m---------------------------------------------------------------------------\u001b[0m",
      "\u001b[0;31mNameError\u001b[0m                                 Traceback (most recent call last)",
      "Cell \u001b[0;32mIn[3], line 7\u001b[0m\n\u001b[1;32m      3\u001b[0m \u001b[38;5;28;01mfrom\u001b[39;00m \u001b[38;5;21;01msklearn\u001b[39;00m\u001b[38;5;21;01m.\u001b[39;00m\u001b[38;5;21;01mmetrics\u001b[39;00m \u001b[38;5;28;01mimport\u001b[39;00m mean_absolute_error, mean_squared_error\n\u001b[1;32m      6\u001b[0m \u001b[38;5;66;03m# Merge datasets on 'Date'\u001b[39;00m\n\u001b[0;32m----> 7\u001b[0m merged_df \u001b[38;5;241m=\u001b[39m pd\u001b[38;5;241m.\u001b[39mmerge(reservations_df, sales_df, on\u001b[38;5;241m=\u001b[39m\u001b[38;5;124m'\u001b[39m\u001b[38;5;124mDate\u001b[39m\u001b[38;5;124m'\u001b[39m, how\u001b[38;5;241m=\u001b[39m\u001b[38;5;124m'\u001b[39m\u001b[38;5;124minner\u001b[39m\u001b[38;5;124m'\u001b[39m)\n\u001b[1;32m      9\u001b[0m \u001b[38;5;66;03m# ✅ Add this line right after merging\u001b[39;00m\n\u001b[1;32m     10\u001b[0m merged_df[\u001b[38;5;124m'\u001b[39m\u001b[38;5;124mIs_Weekend\u001b[39m\u001b[38;5;124m'\u001b[39m] \u001b[38;5;241m=\u001b[39m pd\u001b[38;5;241m.\u001b[39mto_datetime(merged_df[\u001b[38;5;124m'\u001b[39m\u001b[38;5;124mDate\u001b[39m\u001b[38;5;124m'\u001b[39m])\u001b[38;5;241m.\u001b[39mdt\u001b[38;5;241m.\u001b[39mweekday\u001b[38;5;241m.\u001b[39misin([\u001b[38;5;241m5\u001b[39m, \u001b[38;5;241m6\u001b[39m])\u001b[38;5;241m.\u001b[39mastype(\u001b[38;5;28mint\u001b[39m)\n",
      "\u001b[0;31mNameError\u001b[0m: name 'pd' is not defined"
     ]
    }
   ],
   "source": [
    "from sklearn.model_selection import train_test_split\n",
    "from sklearn.linear_model import LinearRegression\n",
    "from sklearn.metrics import mean_absolute_error, mean_squared_error\n",
    "\n",
    "\n",
    "# Merge datasets on 'Date'\n",
    "merged_df = pd.merge(reservations_df, sales_df, on='Date', how='inner')\n",
    "\n",
    "# ✅ Add this line right after merging\n",
    "merged_df['Is_Weekend'] = pd.to_datetime(merged_df['Date']).dt.weekday.isin([5, 6]).astype(int)\n",
    "\n",
    "# Select relevant features for prediction\n",
    "features = ['Party_Size', 'Previous_Visits', 'Wait_Time_Min', 'Table_Turn_Time_Min', 'Bill_Amount', 'Is_Weekend']\n",
    "\n",
    "\n",
    "# Select relevant features for prediction\n",
    "features = ['Party_Size', 'Previous_Visits', 'Wait_Time_Min', 'Table_Turn_Time_Min', 'Bill_Amount', 'Is_Weekend']\n",
    "target = 'Guest_ID'  # Assuming 'Guest_ID' represents unique customers per day\n",
    "\n",
    "# Ensure Guest_ID is numerical (count of guests per day)\n",
    "merged_df[target] = merged_df.groupby('Date')[target].transform('count')\n",
    "\n",
    "# Drop duplicates to keep daily totals\n",
    "merged_df = merged_df.drop_duplicates(subset=['Date'])\n",
    "\n",
    "# Define X and y\n",
    "X = merged_df[features]\n",
    "y = merged_df[target]\n",
    "\n",
    "# Train-test split (80% train, 20% test)\n",
    "X_train, X_test, y_train, y_test = train_test_split(X, y, test_size=0.2, random_state=42)\n",
    "\n",
    "# Train the regression model\n",
    "model = LinearRegression()\n",
    "model.fit(X_train, y_train)\n",
    "\n",
    "# Predictions\n",
    "y_pred = model.predict(X_test)\n",
    "\n",
    "# Evaluate the model\n",
    "mae = mean_absolute_error(y_test, y_pred)\n",
    "mse = mean_squared_error(y_test, y_pred)\n",
    "rmse = mse ** 0.5\n",
    "\n",
    "# Forecast next 7 days\n",
    "future_dates = pd.date_range(start=merged_df['Date'].max() + pd.Timedelta(days=1), periods=7)\n",
    "future_features = pd.DataFrame({\n",
    "    'Party_Size': [X['Party_Size'].mean()] * 7,\n",
    "    'Previous_Visits': [X['Previous_Visits'].mean()] * 7,\n",
    "    'Wait_Time_Min': [X['Wait_Time_Min'].mean()] * 7,\n",
    "    'Table_Turn_Time_Min': [X['Table_Turn_Time_Min'].mean()] * 7,\n",
    "    'Bill_Amount': [X['Bill_Amount'].mean()] * 7,\n",
    "    'Is_Weekend': [1 if d.weekday() in [5, 6] else 0 for d in future_dates]\n",
    "})\n",
    "\n",
    "# Predict future customer demand\n",
    "future_predictions = model.predict(future_features)\n",
    "\n",
    "# Output results\n",
    "future_forecast = pd.DataFrame({'Date': future_dates, 'Predicted_Customers': future_predictions})\n",
    "future_forecast\n"
   ]
  },
  {
   "cell_type": "code",
   "execution_count": 11,
   "id": "28c4701b-ce65-4d26-9861-21925058927f",
   "metadata": {},
   "outputs": [],
   "source": [
    "\n",
    "import pandas as pd\n",
    "from sklearn.linear_model import LinearRegression\n",
    "from sklearn.model_selection import train_test_split, TimeSeriesSplit\n",
    "from sklearn.metrics import mean_absolute_error, mean_squared_error, r2_score\n",
    "import numpy as np\n",
    "\n",
    "# Load data\n",
    "reservations = pd.read_csv(\"Calgary_Reservations_Data.csv\")\n",
    "sales = pd.read_csv(\"Calgary_Restaurant_Sales.csv\")\n"
   ]
  },
  {
   "cell_type": "code",
   "execution_count": 13,
   "id": "9c5333b6-9ebf-465c-83be-b963533eda3b",
   "metadata": {},
   "outputs": [],
   "source": [
    "\n",
    "# Merge on Date\n",
    "merged_df = pd.merge(reservations, sales, on='Date', how='inner')\n",
    "\n",
    "# Add weekend flag\n",
    "merged_df['Is_Weekend'] = pd.to_datetime(merged_df['Date']).dt.weekday.isin([5, 6]).astype(int)\n",
    "\n",
    "# Target: count of unique guests per day\n",
    "merged_df['Guest_ID'] = merged_df.groupby('Date')['Guest_ID'].transform('count')\n",
    "\n",
    "# Drop duplicate rows to represent daily data\n",
    "merged_df = merged_df.drop_duplicates(subset=['Date'])\n",
    "\n",
    "# Features and target\n",
    "features = ['Party_Size', 'Previous_Visits', 'Wait_Time_Min', 'Table_Turn_Time_Min', 'Bill_Amount', 'Is_Weekend']\n",
    "target = 'Guest_ID'\n",
    "\n",
    "X = merged_df[features]\n",
    "y = merged_df[target]\n"
   ]
  },
  {
   "cell_type": "code",
   "execution_count": 15,
   "id": "3d6f509a-e87f-4bc8-bc8c-5cd0f69840bd",
   "metadata": {},
   "outputs": [
    {
     "name": "stdout",
     "output_type": "stream",
     "text": [
      "📊 Standard Train/Test Split Performance\n",
      "MAE: 6.24\n",
      "RMSE: 7.10\n",
      "R²: -0.03\n"
     ]
    }
   ],
   "source": [
    "\n",
    "# Standard split\n",
    "X_train, X_test, y_train, y_test = train_test_split(X, y, test_size=0.2, random_state=42)\n",
    "\n",
    "# Train model\n",
    "model = LinearRegression()\n",
    "model.fit(X_train, y_train)\n",
    "y_pred = model.predict(X_test)\n",
    "\n",
    "# Metrics\n",
    "mae = mean_absolute_error(y_test, y_pred)\n",
    "mse = mean_squared_error(y_test, y_pred)\n",
    "rmse = np.sqrt(mse)\n",
    "r2 = r2_score(y_test, y_pred)\n",
    "\n",
    "print(\"📊 Standard Train/Test Split Performance\")\n",
    "print(f\"MAE: {mae:.2f}\")\n",
    "print(f\"RMSE: {rmse:.2f}\")\n",
    "print(f\"R²: {r2:.2f}\")\n"
   ]
  },
  {
   "cell_type": "code",
   "execution_count": 17,
   "id": "8bd6d7b2-376c-42db-a96c-b9d63414a7b1",
   "metadata": {},
   "outputs": [
    {
     "name": "stdout",
     "output_type": "stream",
     "text": [
      "\n",
      "📈 Time Series Split Performance\n",
      "Fold 1: MAE=6.45, RMSE=7.53, R²=-0.06\n",
      "Fold 2: MAE=5.88, RMSE=6.91, R²=-0.08\n",
      "Fold 3: MAE=6.07, RMSE=7.13, R²=0.00\n",
      "Fold 4: MAE=6.36, RMSE=7.42, R²=-0.10\n",
      "Fold 5: MAE=6.12, RMSE=7.08, R²=-0.00\n"
     ]
    }
   ],
   "source": [
    "\n",
    "# Time Series Split\n",
    "tscv = TimeSeriesSplit(n_splits=5)\n",
    "model_ts = LinearRegression()\n",
    "\n",
    "print(\"\\n📈 Time Series Split Performance\")\n",
    "for fold, (train_idx, test_idx) in enumerate(tscv.split(X), 1):\n",
    "    X_train_ts, X_test_ts = X.iloc[train_idx], X.iloc[test_idx]\n",
    "    y_train_ts, y_test_ts = y.iloc[train_idx], y.iloc[test_idx]\n",
    "\n",
    "    model_ts.fit(X_train_ts, y_train_ts)\n",
    "    y_pred_ts = model_ts.predict(X_test_ts)\n",
    "\n",
    "    mae_ts = mean_absolute_error(y_test_ts, y_pred_ts)\n",
    "    rmse_ts = np.sqrt(mean_squared_error(y_test_ts, y_pred_ts))\n",
    "    r2_ts = r2_score(y_test_ts, y_pred_ts)\n",
    "\n",
    "    print(f\"Fold {fold}: MAE={mae_ts:.2f}, RMSE={rmse_ts:.2f}, R²={r2_ts:.2f}\")\n"
   ]
  },
  {
   "cell_type": "code",
   "execution_count": 19,
   "id": "480ba4d3-566d-456d-89cd-2c77017aed6b",
   "metadata": {},
   "outputs": [
    {
     "name": "stdout",
     "output_type": "stream",
     "text": [
      "📅 7-Day Customer Forecast:\n",
      "        Date  Predicted_Customers\n",
      "0 2024-01-01            17.072677\n",
      "1 2024-01-02            17.072677\n",
      "2 2024-01-03            17.072677\n",
      "3 2024-01-04            17.072677\n",
      "4 2024-01-05            17.072677\n",
      "5 2024-01-06            16.303038\n",
      "6 2024-01-07            16.303038\n"
     ]
    }
   ],
   "source": [
    "\n",
    "from datetime import timedelta\n",
    "\n",
    "# Forecast next 7 days using average values and adjusting Is_Weekend flag\n",
    "last_known_date = pd.to_datetime(merged_df['Date'].max())\n",
    "future_dates = pd.date_range(start=last_known_date + timedelta(days=1), periods=7)\n",
    "\n",
    "# Use average values from training features\n",
    "default_values = {col: X[col].mean() for col in X.columns}\n",
    "\n",
    "forecast_rows = []\n",
    "for d in future_dates:\n",
    "    row = default_values.copy()\n",
    "    if 'Is_Weekend' in row:\n",
    "        row['Is_Weekend'] = 1 if d.weekday() in [5, 6] else 0\n",
    "    row_df = pd.DataFrame([row])\n",
    "    prediction = model.predict(row_df)[0]\n",
    "    forecast_rows.append({'Date': d, 'Predicted_Customers': prediction})\n",
    "\n",
    "future_forecast_df = pd.DataFrame(forecast_rows)\n",
    "print(\"📅 7-Day Customer Forecast:\")\n",
    "print(future_forecast_df)\n"
   ]
  },
  {
   "cell_type": "code",
   "execution_count": null,
   "id": "08c94b63-097d-4f6f-a8af-70d240de1276",
   "metadata": {},
   "outputs": [],
   "source": []
  }
 ],
 "metadata": {
  "kernelspec": {
   "display_name": "Python [conda env:base] *",
   "language": "python",
   "name": "conda-base-py"
  },
  "language_info": {
   "codemirror_mode": {
    "name": "ipython",
    "version": 3
   },
   "file_extension": ".py",
   "mimetype": "text/x-python",
   "name": "python",
   "nbconvert_exporter": "python",
   "pygments_lexer": "ipython3",
   "version": "3.12.7"
  }
 },
 "nbformat": 4,
 "nbformat_minor": 5
}
